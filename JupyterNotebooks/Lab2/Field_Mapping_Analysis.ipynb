{
  "cells": [
    {
      "cell_type": "markdown",
      "metadata": {
        "id": "ctBts0oVKLsA"
      },
      "source": [
        "# Lab 2:  Electric Field Mapping"
      ]
    },
    {
      "cell_type": "code",
      "execution_count": null,
      "metadata": {
        "id": "P6JIO2_6KLsD"
      },
      "outputs": [],
      "source": [
        "import numpy as np\n",
        "import pandas as pd\n",
        "import matplotlib.pyplot as plt\n",
        "import scipy.stats as stats\n",
        "\n",
        "# The following lines make plots in dark mode look reasonable.  If you are not using dark\n",
        "# mode you don't need them, but you can also just leave them here and it should work fine.\n",
        "\n",
        "dark_mode = True\n",
        "# plotting choices for dark-mode\n",
        "if (dark_mode):\n",
        "    from jupyterthemes import jtplot\n",
        "    jtplot.style(theme='monokai', context='notebook', ticks=True, grid=False)\n",
        "    linecolor = 'w'\n",
        "else:\n",
        "    linecolor = 'k'"
      ]
    },
    {
      "cell_type": "markdown",
      "metadata": {
        "id": "Aovklt4HKLsG"
      },
      "source": [
        "# Parallel Plates - Small Distance"
      ]
    },
    {
      "cell_type": "code",
      "execution_count": null,
      "metadata": {
        "id": "m4tVJHGPKLsH",
        "outputId": "b1f0e6ff-581d-425b-e737-922da129f45d"
      },
      "outputs": [
        {
          "name": "stdout",
          "output_type": "stream",
          "text": [
            "    V    dV  x_cm  dx_cm\n",
            "  2.0  0.02  0.86   0.01\n",
            "  3.0  0.02  1.40   0.01\n",
            "  4.0  0.02  2.11   0.01\n",
            "  5.0  0.02  2.74   0.01\n",
            "  6.0  0.02  3.20   0.01\n",
            "  7.0  0.02  3.89   0.01\n",
            "  8.0  0.02  4.45   0.01\n",
            "  9.0  0.02  4.98   0.01\n",
            " 10.0  0.02  5.54   0.01\n"
          ]
        }
      ],
      "source": [
        "# Create a Pandas DataFrame with data for part 1\n",
        "\n",
        "# The data elements are [V, dV, x_cm, dx_cm]\n",
        "\n",
        "data = [[2.00,0.02,0.86,0.01], [3.00,0.02,1.40,0.01], [4.00,0.02,2.11,0.01], [5.00,0.02,2.74,0.01], \n",
        "        [6.00,0.02,3.20,0.01], [7.00,0.02,3.89,0.01], [8.00,0.02,4.45,0.01],\n",
        "        [9.00,0.02,4.98,0.01], [10.00,0.02,5.54,0.01]]\n",
        "# create dataframe\n",
        "df = pd.DataFrame(data, columns = ['V', 'dV','x_cm','dx_cm'])\n",
        "\n",
        "print(df.to_string(index=False))"
      ]
    },
    {
      "cell_type": "code",
      "execution_count": null,
      "metadata": {
        "id": "A6QneY5BKLsJ",
        "outputId": "c7d1f0a9-85b0-4e8a-9d1f-873aea9d55d4"
      },
      "outputs": [
        {
          "name": "stdout",
          "output_type": "stream",
          "text": [
            "    V    dV  x_cm  dx_cm       x      dx\n",
            "  2.0  0.02  0.86   0.01  0.0086  0.0001\n",
            "  3.0  0.02  1.40   0.01  0.0140  0.0001\n",
            "  4.0  0.02  2.11   0.01  0.0211  0.0001\n",
            "  5.0  0.02  2.74   0.01  0.0274  0.0001\n",
            "  6.0  0.02  3.20   0.01  0.0320  0.0001\n",
            "  7.0  0.02  3.89   0.01  0.0389  0.0001\n",
            "  8.0  0.02  4.45   0.01  0.0445  0.0001\n",
            "  9.0  0.02  4.98   0.01  0.0498  0.0001\n",
            " 10.0  0.02  5.54   0.01  0.0554  0.0001\n"
          ]
        }
      ],
      "source": [
        "df['x'] = 0.01*df['x_cm']\n",
        "df['dx'] = 0.01*df['dx_cm']\n",
        "\n",
        "print(df.to_string(index=False))"
      ]
    },
    {
      "cell_type": "code",
      "execution_count": null,
      "metadata": {
        "id": "GNwqtlp9KLsJ",
        "outputId": "70a352cc-f5d8-4923-e470-45012465367f"
      },
      "outputs": [
        {
          "name": "stdout",
          "output_type": "stream",
          "text": [
            "Beta: [169.89489329   0.49351775]\n",
            "Beta Std Error: [2.28450891 0.08177615]\n",
            "Beta Covariance: [[ 0.3314263  -0.0107419 ]\n",
            " [-0.0107419   0.00042467]]\n",
            "Residual Variance: 15.747033408812737\n",
            "Inverse Condition #: 0.014930727092439106\n",
            "Reason(s) for Halting:\n",
            "  Sum of squares convergence\n",
            "\n",
            "Final Result: Y = (169.894893294 +/- 2.284508907) X + (0.493517745 +/- 0.081776154)\n"
          ]
        },
        {
          "data": {
            "image/png": "[encoded data removed]",
            "text/plain": [
              "<Figure size 640x480 with 1 Axes>"
            ]
          },
          "metadata": {
            "needs_background": "dark"
          },
          "output_type": "display_data"
        }
      ],
      "source": [
        "xi = df['x']\n",
        "yi = df['V']\n",
        "sigmaxi = df['dx']\n",
        "sigmayi = df['dV']\n",
        "\n",
        "##############################\n",
        "\n",
        "from scipy.odr import *\n",
        "\n",
        "def fitfunction(B, x):\n",
        "    '''Linear function y = m*x + b'''\n",
        "    # B is a vector of the parameters.\n",
        "    # x is an array of the current x values.\n",
        "    # x is in the same format as the x passed to Data or RealData.\n",
        "    #\n",
        "    # Return an array in the same format as y passed to Data or RealData.\n",
        "    return B[0]*x + B[1]\n",
        "\n",
        "linear = Model(fitfunction) # create a Model object based on the fitfuncion we have defined\n",
        "mydata = RealData(xi, yi, sx=sigmaxi, sy=sigmayi) # create a data object based on our data, include errors.\n",
        "myodr = ODR(mydata, linear, beta0=[1., 2.]) # create a fitting object, based on the data, fit Model, and an intial set of parameters.\n",
        "myoutput = myodr.run()  # run the fitting process to get optimized parameters!\n",
        "\n",
        "myoutput.pprint() # print out the result of the fit\n",
        "\n",
        "# Now assign the important fit results to some more convenient variables.\n",
        "\n",
        "popt = myoutput.beta # the vector of optimized parameters\n",
        "pcov = myoutput.cov_beta # the covariance matrix\n",
        "perr = myoutput.sd_beta # the vector of ERRORS in the optimized parameters\n",
        "\n",
        "# The following lines generate upper and lower 99% \"Confidence Bands\" on the fit, for visualization\n",
        "# purposes.\n",
        "\n",
        "ps = np.random.multivariate_normal(popt,pcov,10000)\n",
        "ysample=np.asarray([fitfunction(pi,xi) for pi in ps])\n",
        "\n",
        "lower = np.percentile(ysample,0.5,axis=0)\n",
        "upper = np.percentile(ysample,99.5,axis=0)\n",
        "middle = (lower+upper)/2.0\n",
        "\n",
        "print()\n",
        "print (\"Final Result: Y = (%0.9f +/- %0.9f) X + (%0.9f +/- %0.9f)\" % (popt[0],perr[0],popt[1],perr[1]))\n",
        "\n",
        "plt.figure(figsize=(8, 6), dpi=80)\n",
        "\n",
        "plt.errorbar(xi, yi, xerr=sigmaxi, yerr=sigmayi, fmt='o', capsize=2, capthick=1)\n",
        "\n",
        "plt.plot(xi,middle)\n",
        "plt.plot(xi,lower)\n",
        "plt.plot(xi,upper)\n",
        "\n",
        "#########################\n",
        "\n",
        "plt.xlabel('Distance (meters)')\n",
        "plt.ylabel('Voltage (Volts)')\n",
        "plt.title('Parallel Plates - Small Distance Configuration')\n",
        "plt.show()"
      ]
    },
    {
      "cell_type": "code",
      "execution_count": null,
      "metadata": {
        "id": "KS1VpBkcKLsK",
        "outputId": "6b835198-12fd-4e3c-bfeb-72566634a0b2"
      },
      "outputs": [
        {
          "name": "stdout",
          "output_type": "stream",
          "text": [
            "Expected Electric Field = 141.2 +/- 2.0\n"
          ]
        }
      ],
      "source": [
        "# Expected Electric Field calculation\n",
        "\n",
        "d_plates = 8.5*0.01\n",
        "dd_plates = 0.05*0.01\n",
        "\n",
        "V_plates = 12.0\n",
        "dV_plates = 0.1\n",
        "\n",
        "E_expected = V_plates/d_plates\n",
        "dE_expected = E_expected*(dV_plates/V_plates+dd_plates/d_plates)\n",
        "\n",
        "print(\"Expected Electric Field = %0.1f +/- %0.1f\" % (E_expected,dE_expected))"
      ]
    },
    {
      "cell_type": "markdown",
      "metadata": {
        "id": "1MZvRVQJKLsL"
      },
      "source": [
        "## Analysis of Voltage vs. Position Result\n",
        "\n",
        "First of all, we see that this is a pretty good linear fit!\n",
        "\n",
        "Second, we see that the result for the y-intercept (b) is $(0.494 \\pm 0.082)$ Volts.  This is close to zero, but still inconsistent with our expectations.\n",
        "\n",
        "Third, we see that the average electric field (the slope) that we were trying to determine is\n",
        "$(169.9 \\pm 2.3)$ Volts per meter.  Based on the calculation of the expected value (in the next cell), we are not in agreement with that result.  Why?"
      ]
    },
    {
      "cell_type": "markdown",
      "metadata": {
        "id": "-Yq6AiOlKLsM"
      },
      "source": [
        "# Parallel Plates - Large Distance\n",
        "\n",
        "Complete the analysis for the large distance configuration, based on the analysis above."
      ]
    },
    {
      "cell_type": "code",
      "execution_count": null,
      "metadata": {
        "id": "IEBOld-7KLsM"
      },
      "outputs": [],
      "source": [
        ""
      ]
    }
  ],
  "metadata": {
    "kernelspec": {
      "display_name": "Python 3",
      "language": "python",
      "name": "python3"
    },
    "language_info": {
      "codemirror_mode": {
        "name": "ipython",
        "version": 3
      },
      "file_extension": ".py",
      "mimetype": "text/x-python",
      "name": "python",
      "nbconvert_exporter": "python",
      "pygments_lexer": "ipython3",
      "version": "3.6.8"
    },
    "latex_envs": {
      "LaTeX_envs_menu_present": true,
      "autoclose": false,
      "autocomplete": true,
      "bibliofile": "biblio.bib",
      "cite_by": "apalike",
      "current_citInitial": 1,
      "eqLabelWithNumbers": true,
      "eqNumInitial": 1,
      "hotkeys": {
        "equation": "Ctrl-E",
        "itemize": "Ctrl-I"
      },
      "labels_anchors": false,
      "latex_user_defs": false,
      "report_style_numbering": false,
      "user_envs_cfg": false
    },
    "colab": {
      "name": "Field_Mapping_Analysis.ipynb",
      "provenance": []
    }
  },
  "nbformat": 4,
  "nbformat_minor": 0
}